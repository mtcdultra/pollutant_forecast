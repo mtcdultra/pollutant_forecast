{
 "cells": [
  {
   "cell_type": "code",
   "execution_count": 247,
   "metadata": {},
   "outputs": [],
   "source": [
    "# http://energiaeambiente.org.br/qualidadedoar\n",
    "\n",
    "import pandas as pd\n",
    "import os\n",
    "import glob\n",
    "import matplotlib.pyplot as plt\n",
    "import numpy as np\n",
    "\n",
    "def load_data(file: str):\n",
    "    return pd.read_csv(file, encoding='ISO-8859-1')\n",
    "\n",
    "def dataset_visualize_items_specific_columns(dataset, column_name):\n",
    "    return dataset[column_name].value_counts()\n",
    "\n",
    "def filter_dataset_by_column(dataset, column_name, item_column):\n",
    "    return dataset.loc[dataset[column_name] == item_column]"
   ]
  },
  {
   "cell_type": "code",
   "execution_count": 248,
   "metadata": {},
   "outputs": [
    {
     "data": {
      "text/plain": [
       "Marg. Tietê - Pte dos Remédios    41247\n",
       "Congonhas                         40582\n",
       "Guarulhos - Pimentas              38853\n",
       "Cubatão - Vale do Mogi            31855\n",
       "Cerqueira César                   31808\n",
       "Name: Estacao, dtype: int64"
      ]
     },
     "execution_count": 248,
     "metadata": {},
     "output_type": "execute_result"
    }
   ],
   "source": [
    "file = '/Users/mtcd/@codes/pollutant forcast/data/sp/2019SP01.csv'\n",
    "df = load_data(file)\n",
    "dataset_visualize_items_specific_columns(df, 'Estacao').head()"
   ]
  },
  {
   "cell_type": "code",
   "execution_count": 249,
   "metadata": {},
   "outputs": [
    {
     "data": {
      "text/plain": [
       "(53695, 8)"
      ]
     },
     "execution_count": 249,
     "metadata": {},
     "output_type": "execute_result"
    }
   ],
   "source": [
    "path = '/Users/mtcd/@codes/pollutant forcast/data/sp'\n",
    "\n",
    "df_temp = []\n",
    "lista_arquivos = glob.glob(os.path.join(path,'*.csv'))\n",
    "\n",
    "for arquivo in lista_arquivos:\n",
    "    df_temp.append(load_data(arquivo))\n",
    "\n",
    "df = pd.concat(df_temp, axis=0)\n",
    "df = filter_dataset_by_column(df, 'Estacao', 'Taubaté')\n",
    "df = filter_dataset_by_column(df, 'Poluente', 'MP10')\n",
    "df['DataHora'] = df['Data'] + ',' + df['Hora']\n",
    "df['DataHora_int'] = df['Data'] + df['Hora']\n",
    "df['DataHora'] = pd.to_datetime(df['DataHora'], format='%Y-%m-%d,%H:%M')\n",
    "df = df.drop(columns=['Hora'])\n",
    "df = df.drop(columns=['Data'])\n",
    "df.shape"
   ]
  },
  {
   "cell_type": "code",
   "execution_count": 250,
   "metadata": {},
   "outputs": [
    {
     "data": {
      "text/html": [
       "<div>\n",
       "<style scoped>\n",
       "    .dataframe tbody tr th:only-of-type {\n",
       "        vertical-align: middle;\n",
       "    }\n",
       "\n",
       "    .dataframe tbody tr th {\n",
       "        vertical-align: top;\n",
       "    }\n",
       "\n",
       "    .dataframe thead th {\n",
       "        text-align: right;\n",
       "    }\n",
       "</style>\n",
       "<table border=\"1\" class=\"dataframe\">\n",
       "  <thead>\n",
       "    <tr style=\"text-align: right;\">\n",
       "      <th></th>\n",
       "      <th>Estacao</th>\n",
       "      <th>Codigo</th>\n",
       "      <th>Poluente</th>\n",
       "      <th>Valor</th>\n",
       "      <th>Unidade</th>\n",
       "      <th>Tipo</th>\n",
       "      <th>DataHora</th>\n",
       "      <th>DataHora_int</th>\n",
       "    </tr>\n",
       "  </thead>\n",
       "  <tbody>\n",
       "    <tr>\n",
       "      <th>716490</th>\n",
       "      <td>Taubaté</td>\n",
       "      <td>SP78</td>\n",
       "      <td>MP10</td>\n",
       "      <td>28.0</td>\n",
       "      <td>ug/m3</td>\n",
       "      <td>automatica</td>\n",
       "      <td>2020-01-01 01:00:00</td>\n",
       "      <td>202001010100</td>\n",
       "    </tr>\n",
       "    <tr>\n",
       "      <th>716491</th>\n",
       "      <td>Taubaté</td>\n",
       "      <td>SP78</td>\n",
       "      <td>MP10</td>\n",
       "      <td>49.0</td>\n",
       "      <td>ug/m3</td>\n",
       "      <td>automatica</td>\n",
       "      <td>2020-01-01 02:00:00</td>\n",
       "      <td>202001010200</td>\n",
       "    </tr>\n",
       "    <tr>\n",
       "      <th>716492</th>\n",
       "      <td>Taubaté</td>\n",
       "      <td>SP78</td>\n",
       "      <td>MP10</td>\n",
       "      <td>42.0</td>\n",
       "      <td>ug/m3</td>\n",
       "      <td>automatica</td>\n",
       "      <td>2020-01-01 03:00:00</td>\n",
       "      <td>202001010300</td>\n",
       "    </tr>\n",
       "    <tr>\n",
       "      <th>716493</th>\n",
       "      <td>Taubaté</td>\n",
       "      <td>SP78</td>\n",
       "      <td>MP10</td>\n",
       "      <td>30.0</td>\n",
       "      <td>ug/m3</td>\n",
       "      <td>automatica</td>\n",
       "      <td>2020-01-01 04:00:00</td>\n",
       "      <td>202001010400</td>\n",
       "    </tr>\n",
       "    <tr>\n",
       "      <th>716494</th>\n",
       "      <td>Taubaté</td>\n",
       "      <td>SP78</td>\n",
       "      <td>MP10</td>\n",
       "      <td>19.0</td>\n",
       "      <td>ug/m3</td>\n",
       "      <td>automatica</td>\n",
       "      <td>2020-01-01 05:00:00</td>\n",
       "      <td>202001010500</td>\n",
       "    </tr>\n",
       "    <tr>\n",
       "      <th>...</th>\n",
       "      <td>...</td>\n",
       "      <td>...</td>\n",
       "      <td>...</td>\n",
       "      <td>...</td>\n",
       "      <td>...</td>\n",
       "      <td>...</td>\n",
       "      <td>...</td>\n",
       "      <td>...</td>\n",
       "    </tr>\n",
       "    <tr>\n",
       "      <th>922757</th>\n",
       "      <td>Taubaté</td>\n",
       "      <td>SP78</td>\n",
       "      <td>MP10</td>\n",
       "      <td>10.0</td>\n",
       "      <td>ug/m3</td>\n",
       "      <td>automatica</td>\n",
       "      <td>2017-12-31 20:00:00</td>\n",
       "      <td>201712312000</td>\n",
       "    </tr>\n",
       "    <tr>\n",
       "      <th>922758</th>\n",
       "      <td>Taubaté</td>\n",
       "      <td>SP78</td>\n",
       "      <td>MP10</td>\n",
       "      <td>9.0</td>\n",
       "      <td>ug/m3</td>\n",
       "      <td>automatica</td>\n",
       "      <td>2017-12-31 21:00:00</td>\n",
       "      <td>201712312100</td>\n",
       "    </tr>\n",
       "    <tr>\n",
       "      <th>922759</th>\n",
       "      <td>Taubaté</td>\n",
       "      <td>SP78</td>\n",
       "      <td>MP10</td>\n",
       "      <td>9.0</td>\n",
       "      <td>ug/m3</td>\n",
       "      <td>automatica</td>\n",
       "      <td>2017-12-31 22:00:00</td>\n",
       "      <td>201712312200</td>\n",
       "    </tr>\n",
       "    <tr>\n",
       "      <th>922760</th>\n",
       "      <td>Taubaté</td>\n",
       "      <td>SP78</td>\n",
       "      <td>MP10</td>\n",
       "      <td>11.0</td>\n",
       "      <td>ug/m3</td>\n",
       "      <td>automatica</td>\n",
       "      <td>2017-12-31 23:00:00</td>\n",
       "      <td>201712312300</td>\n",
       "    </tr>\n",
       "    <tr>\n",
       "      <th>922761</th>\n",
       "      <td>Taubaté</td>\n",
       "      <td>SP78</td>\n",
       "      <td>MP10</td>\n",
       "      <td>18.0</td>\n",
       "      <td>ug/m3</td>\n",
       "      <td>automatica</td>\n",
       "      <td>2017-12-31 23:55:00</td>\n",
       "      <td>201712312355</td>\n",
       "    </tr>\n",
       "  </tbody>\n",
       "</table>\n",
       "<p>53695 rows × 8 columns</p>\n",
       "</div>"
      ],
      "text/plain": [
       "        Estacao Codigo Poluente  Valor Unidade        Tipo  \\\n",
       "716490  Taubaté   SP78     MP10   28.0   ug/m3  automatica   \n",
       "716491  Taubaté   SP78     MP10   49.0   ug/m3  automatica   \n",
       "716492  Taubaté   SP78     MP10   42.0   ug/m3  automatica   \n",
       "716493  Taubaté   SP78     MP10   30.0   ug/m3  automatica   \n",
       "716494  Taubaté   SP78     MP10   19.0   ug/m3  automatica   \n",
       "...         ...    ...      ...    ...     ...         ...   \n",
       "922757  Taubaté   SP78     MP10   10.0   ug/m3  automatica   \n",
       "922758  Taubaté   SP78     MP10    9.0   ug/m3  automatica   \n",
       "922759  Taubaté   SP78     MP10    9.0   ug/m3  automatica   \n",
       "922760  Taubaté   SP78     MP10   11.0   ug/m3  automatica   \n",
       "922761  Taubaté   SP78     MP10   18.0   ug/m3  automatica   \n",
       "\n",
       "                  DataHora  DataHora_int  \n",
       "716490 2020-01-01 01:00:00  202001010100  \n",
       "716491 2020-01-01 02:00:00  202001010200  \n",
       "716492 2020-01-01 03:00:00  202001010300  \n",
       "716493 2020-01-01 04:00:00  202001010400  \n",
       "716494 2020-01-01 05:00:00  202001010500  \n",
       "...                    ...           ...  \n",
       "922757 2017-12-31 20:00:00  201712312000  \n",
       "922758 2017-12-31 21:00:00  201712312100  \n",
       "922759 2017-12-31 22:00:00  201712312200  \n",
       "922760 2017-12-31 23:00:00  201712312300  \n",
       "922761 2017-12-31 23:55:00  201712312355  \n",
       "\n",
       "[53695 rows x 8 columns]"
      ]
     },
     "execution_count": 250,
     "metadata": {},
     "output_type": "execute_result"
    }
   ],
   "source": [
    "\n",
    "df['DataHora_int'] = df['DataHora_int'].astype(str)\n",
    "df['DataHora_int'] = df['DataHora_int'].apply(lambda x : f'{x[0:4]}{x[5:7]}{x[8:10]}{x[10:12]}{x[13:15]}')\n",
    "df['DataHora_int'] = df['DataHora_int'].values.astype(int)\n",
    "df.to_csv('result.csv')\n",
    "df\n"
   ]
  },
  {
   "cell_type": "code",
   "execution_count": 251,
   "metadata": {},
   "outputs": [
    {
     "data": {
      "text/html": [
       "<div>\n",
       "<style scoped>\n",
       "    .dataframe tbody tr th:only-of-type {\n",
       "        vertical-align: middle;\n",
       "    }\n",
       "\n",
       "    .dataframe tbody tr th {\n",
       "        vertical-align: top;\n",
       "    }\n",
       "\n",
       "    .dataframe thead th {\n",
       "        text-align: right;\n",
       "    }\n",
       "</style>\n",
       "<table border=\"1\" class=\"dataframe\">\n",
       "  <thead>\n",
       "    <tr style=\"text-align: right;\">\n",
       "      <th></th>\n",
       "      <th>Estacao</th>\n",
       "      <th>Codigo</th>\n",
       "      <th>Poluente</th>\n",
       "      <th>Valor</th>\n",
       "      <th>Unidade</th>\n",
       "      <th>Tipo</th>\n",
       "      <th>DataHora</th>\n",
       "      <th>DataHora_int</th>\n",
       "    </tr>\n",
       "  </thead>\n",
       "  <tbody>\n",
       "    <tr>\n",
       "      <th>716490</th>\n",
       "      <td>Taubaté</td>\n",
       "      <td>SP78</td>\n",
       "      <td>MP10</td>\n",
       "      <td>28.0</td>\n",
       "      <td>ug/m3</td>\n",
       "      <td>automatica</td>\n",
       "      <td>2020-01-01 01:00:00</td>\n",
       "      <td>202001010100</td>\n",
       "    </tr>\n",
       "    <tr>\n",
       "      <th>716491</th>\n",
       "      <td>Taubaté</td>\n",
       "      <td>SP78</td>\n",
       "      <td>MP10</td>\n",
       "      <td>49.0</td>\n",
       "      <td>ug/m3</td>\n",
       "      <td>automatica</td>\n",
       "      <td>2020-01-01 02:00:00</td>\n",
       "      <td>202001010200</td>\n",
       "    </tr>\n",
       "    <tr>\n",
       "      <th>716492</th>\n",
       "      <td>Taubaté</td>\n",
       "      <td>SP78</td>\n",
       "      <td>MP10</td>\n",
       "      <td>42.0</td>\n",
       "      <td>ug/m3</td>\n",
       "      <td>automatica</td>\n",
       "      <td>2020-01-01 03:00:00</td>\n",
       "      <td>202001010300</td>\n",
       "    </tr>\n",
       "    <tr>\n",
       "      <th>716493</th>\n",
       "      <td>Taubaté</td>\n",
       "      <td>SP78</td>\n",
       "      <td>MP10</td>\n",
       "      <td>30.0</td>\n",
       "      <td>ug/m3</td>\n",
       "      <td>automatica</td>\n",
       "      <td>2020-01-01 04:00:00</td>\n",
       "      <td>202001010400</td>\n",
       "    </tr>\n",
       "    <tr>\n",
       "      <th>716494</th>\n",
       "      <td>Taubaté</td>\n",
       "      <td>SP78</td>\n",
       "      <td>MP10</td>\n",
       "      <td>19.0</td>\n",
       "      <td>ug/m3</td>\n",
       "      <td>automatica</td>\n",
       "      <td>2020-01-01 05:00:00</td>\n",
       "      <td>202001010500</td>\n",
       "    </tr>\n",
       "    <tr>\n",
       "      <th>...</th>\n",
       "      <td>...</td>\n",
       "      <td>...</td>\n",
       "      <td>...</td>\n",
       "      <td>...</td>\n",
       "      <td>...</td>\n",
       "      <td>...</td>\n",
       "      <td>...</td>\n",
       "      <td>...</td>\n",
       "    </tr>\n",
       "    <tr>\n",
       "      <th>716585</th>\n",
       "      <td>Taubaté</td>\n",
       "      <td>SP78</td>\n",
       "      <td>MP10</td>\n",
       "      <td>10.0</td>\n",
       "      <td>ug/m3</td>\n",
       "      <td>automatica</td>\n",
       "      <td>2020-01-04 23:55:00</td>\n",
       "      <td>202001042355</td>\n",
       "    </tr>\n",
       "    <tr>\n",
       "      <th>716586</th>\n",
       "      <td>Taubaté</td>\n",
       "      <td>SP78</td>\n",
       "      <td>MP10</td>\n",
       "      <td>8.0</td>\n",
       "      <td>ug/m3</td>\n",
       "      <td>automatica</td>\n",
       "      <td>2020-01-05 01:00:00</td>\n",
       "      <td>202001050100</td>\n",
       "    </tr>\n",
       "    <tr>\n",
       "      <th>716587</th>\n",
       "      <td>Taubaté</td>\n",
       "      <td>SP78</td>\n",
       "      <td>MP10</td>\n",
       "      <td>11.0</td>\n",
       "      <td>ug/m3</td>\n",
       "      <td>automatica</td>\n",
       "      <td>2020-01-05 02:00:00</td>\n",
       "      <td>202001050200</td>\n",
       "    </tr>\n",
       "    <tr>\n",
       "      <th>716588</th>\n",
       "      <td>Taubaté</td>\n",
       "      <td>SP78</td>\n",
       "      <td>MP10</td>\n",
       "      <td>9.0</td>\n",
       "      <td>ug/m3</td>\n",
       "      <td>automatica</td>\n",
       "      <td>2020-01-05 03:00:00</td>\n",
       "      <td>202001050300</td>\n",
       "    </tr>\n",
       "    <tr>\n",
       "      <th>716589</th>\n",
       "      <td>Taubaté</td>\n",
       "      <td>SP78</td>\n",
       "      <td>MP10</td>\n",
       "      <td>7.0</td>\n",
       "      <td>ug/m3</td>\n",
       "      <td>automatica</td>\n",
       "      <td>2020-01-05 04:00:00</td>\n",
       "      <td>202001050400</td>\n",
       "    </tr>\n",
       "  </tbody>\n",
       "</table>\n",
       "<p>100 rows × 8 columns</p>\n",
       "</div>"
      ],
      "text/plain": [
       "        Estacao Codigo Poluente  Valor Unidade        Tipo  \\\n",
       "716490  Taubaté   SP78     MP10   28.0   ug/m3  automatica   \n",
       "716491  Taubaté   SP78     MP10   49.0   ug/m3  automatica   \n",
       "716492  Taubaté   SP78     MP10   42.0   ug/m3  automatica   \n",
       "716493  Taubaté   SP78     MP10   30.0   ug/m3  automatica   \n",
       "716494  Taubaté   SP78     MP10   19.0   ug/m3  automatica   \n",
       "...         ...    ...      ...    ...     ...         ...   \n",
       "716585  Taubaté   SP78     MP10   10.0   ug/m3  automatica   \n",
       "716586  Taubaté   SP78     MP10    8.0   ug/m3  automatica   \n",
       "716587  Taubaté   SP78     MP10   11.0   ug/m3  automatica   \n",
       "716588  Taubaté   SP78     MP10    9.0   ug/m3  automatica   \n",
       "716589  Taubaté   SP78     MP10    7.0   ug/m3  automatica   \n",
       "\n",
       "                  DataHora  DataHora_int  \n",
       "716490 2020-01-01 01:00:00  202001010100  \n",
       "716491 2020-01-01 02:00:00  202001010200  \n",
       "716492 2020-01-01 03:00:00  202001010300  \n",
       "716493 2020-01-01 04:00:00  202001010400  \n",
       "716494 2020-01-01 05:00:00  202001010500  \n",
       "...                    ...           ...  \n",
       "716585 2020-01-04 23:55:00  202001042355  \n",
       "716586 2020-01-05 01:00:00  202001050100  \n",
       "716587 2020-01-05 02:00:00  202001050200  \n",
       "716588 2020-01-05 03:00:00  202001050300  \n",
       "716589 2020-01-05 04:00:00  202001050400  \n",
       "\n",
       "[100 rows x 8 columns]"
      ]
     },
     "execution_count": 251,
     "metadata": {},
     "output_type": "execute_result"
    }
   ],
   "source": [
    "df.head(100)"
   ]
  },
  {
   "cell_type": "code",
   "execution_count": 252,
   "metadata": {},
   "outputs": [
    {
     "data": {
      "text/plain": [
       "Text(0.5, 1.0, 'Emissão de MP10')"
      ]
     },
     "execution_count": 252,
     "metadata": {},
     "output_type": "execute_result"
    },
    {
     "data": {
      "image/png": "[encoded data removed]",
      "text/plain": [
       "<Figure size 640x480 with 1 Axes>"
      ]
     },
     "metadata": {},
     "output_type": "display_data"
    }
   ],
   "source": [
    "plt.scatter(df['DataHora'], df['Valor'])\n",
    "plt.xlabel('Ano')\n",
    "plt.ylabel('ug/m3')\n",
    "plt.title('Emissão de MP10')"
   ]
  },
  {
   "cell_type": "code",
   "execution_count": 253,
   "metadata": {},
   "outputs": [],
   "source": [
    "X = df.loc[:,['DataHora_int']]\n",
    "y = df.loc[:,['Valor']]"
   ]
  },
  {
   "cell_type": "code",
   "execution_count": 255,
   "metadata": {},
   "outputs": [],
   "source": [
    "from sklearn.model_selection import train_test_split\n",
    "\n",
    "X_train, X_test, y_train, y_test = train_test_split(X, y, test_size=0.3, random_state=42)"
   ]
  },
  {
   "cell_type": "code",
   "execution_count": 256,
   "metadata": {},
   "outputs": [
    {
     "data": {
      "text/html": [
       "<style>#sk-container-id-6 {color: black;background-color: white;}#sk-container-id-6 pre{padding: 0;}#sk-container-id-6 div.sk-toggleable {background-color: white;}#sk-container-id-6 label.sk-toggleable__label {cursor: pointer;display: block;width: 100%;margin-bottom: 0;padding: 0.3em;box-sizing: border-box;text-align: center;}#sk-container-id-6 label.sk-toggleable__label-arrow:before {content: \"▸\";float: left;margin-right: 0.25em;color: #696969;}#sk-container-id-6 label.sk-toggleable__label-arrow:hover:before {color: black;}#sk-container-id-6 div.sk-estimator:hover label.sk-toggleable__label-arrow:before {color: black;}#sk-container-id-6 div.sk-toggleable__content {max-height: 0;max-width: 0;overflow: hidden;text-align: left;background-color: #f0f8ff;}#sk-container-id-6 div.sk-toggleable__content pre {margin: 0.2em;color: black;border-radius: 0.25em;background-color: #f0f8ff;}#sk-container-id-6 input.sk-toggleable__control:checked~div.sk-toggleable__content {max-height: 200px;max-width: 100%;overflow: auto;}#sk-container-id-6 input.sk-toggleable__control:checked~label.sk-toggleable__label-arrow:before {content: \"▾\";}#sk-container-id-6 div.sk-estimator input.sk-toggleable__control:checked~label.sk-toggleable__label {background-color: #d4ebff;}#sk-container-id-6 div.sk-label input.sk-toggleable__control:checked~label.sk-toggleable__label {background-color: #d4ebff;}#sk-container-id-6 input.sk-hidden--visually {border: 0;clip: rect(1px 1px 1px 1px);clip: rect(1px, 1px, 1px, 1px);height: 1px;margin: -1px;overflow: hidden;padding: 0;position: absolute;width: 1px;}#sk-container-id-6 div.sk-estimator {font-family: monospace;background-color: #f0f8ff;border: 1px dotted black;border-radius: 0.25em;box-sizing: border-box;margin-bottom: 0.5em;}#sk-container-id-6 div.sk-estimator:hover {background-color: #d4ebff;}#sk-container-id-6 div.sk-parallel-item::after {content: \"\";width: 100%;border-bottom: 1px solid gray;flex-grow: 1;}#sk-container-id-6 div.sk-label:hover label.sk-toggleable__label {background-color: #d4ebff;}#sk-container-id-6 div.sk-serial::before {content: \"\";position: absolute;border-left: 1px solid gray;box-sizing: border-box;top: 0;bottom: 0;left: 50%;z-index: 0;}#sk-container-id-6 div.sk-serial {display: flex;flex-direction: column;align-items: center;background-color: white;padding-right: 0.2em;padding-left: 0.2em;position: relative;}#sk-container-id-6 div.sk-item {position: relative;z-index: 1;}#sk-container-id-6 div.sk-parallel {display: flex;align-items: stretch;justify-content: center;background-color: white;position: relative;}#sk-container-id-6 div.sk-item::before, #sk-container-id-6 div.sk-parallel-item::before {content: \"\";position: absolute;border-left: 1px solid gray;box-sizing: border-box;top: 0;bottom: 0;left: 50%;z-index: -1;}#sk-container-id-6 div.sk-parallel-item {display: flex;flex-direction: column;z-index: 1;position: relative;background-color: white;}#sk-container-id-6 div.sk-parallel-item:first-child::after {align-self: flex-end;width: 50%;}#sk-container-id-6 div.sk-parallel-item:last-child::after {align-self: flex-start;width: 50%;}#sk-container-id-6 div.sk-parallel-item:only-child::after {width: 0;}#sk-container-id-6 div.sk-dashed-wrapped {border: 1px dashed gray;margin: 0 0.4em 0.5em 0.4em;box-sizing: border-box;padding-bottom: 0.4em;background-color: white;}#sk-container-id-6 div.sk-label label {font-family: monospace;font-weight: bold;display: inline-block;line-height: 1.2em;}#sk-container-id-6 div.sk-label-container {text-align: center;}#sk-container-id-6 div.sk-container {/* jupyter's `normalize.less` sets `[hidden] { display: none; }` but bootstrap.min.css set `[hidden] { display: none !important; }` so we also need the `!important` here to be able to override the default hidden behavior on the sphinx rendered scikit-learn.org. See: https://github.com/scikit-learn/scikit-learn/issues/21755 */display: inline-block !important;position: relative;}#sk-container-id-6 div.sk-text-repr-fallback {display: none;}</style><div id=\"sk-container-id-6\" class=\"sk-top-container\"><div class=\"sk-text-repr-fallback\"><pre>LinearRegression()</pre><b>In a Jupyter environment, please rerun this cell to show the HTML representation or trust the notebook. <br />On GitHub, the HTML representation is unable to render, please try loading this page with nbviewer.org.</b></div><div class=\"sk-container\" hidden><div class=\"sk-item\"><div class=\"sk-estimator sk-toggleable\"><input class=\"sk-toggleable__control sk-hidden--visually\" id=\"sk-estimator-id-6\" type=\"checkbox\" checked><label for=\"sk-estimator-id-6\" class=\"sk-toggleable__label sk-toggleable__label-arrow\">LinearRegression</label><div class=\"sk-toggleable__content\"><pre>LinearRegression()</pre></div></div></div></div></div>"
      ],
      "text/plain": [
       "LinearRegression()"
      ]
     },
     "execution_count": 256,
     "metadata": {},
     "output_type": "execute_result"
    }
   ],
   "source": [
    "from sklearn.linear_model import LinearRegression\n",
    "\n",
    "regressor = LinearRegression()     # Create a scikit learn LinearRegression object\n",
    "regressor.fit(X_train, y_train) "
   ]
  },
  {
   "cell_type": "code",
   "execution_count": 257,
   "metadata": {},
   "outputs": [],
   "source": [
    "y_pred = regressor.predict(X_test)"
   ]
  },
  {
   "cell_type": "code",
   "execution_count": 258,
   "metadata": {},
   "outputs": [
    {
     "data": {
      "text/plain": [
       "array([[20.2450329 ],\n",
       "       [20.29102903],\n",
       "       [19.8121558 ],\n",
       "       ...,\n",
       "       [22.55809377],\n",
       "       [20.75150602],\n",
       "       [20.72372273]])"
      ]
     },
     "execution_count": 258,
     "metadata": {},
     "output_type": "execute_result"
    }
   ],
   "source": [
    "y_pred"
   ]
  },
  {
   "cell_type": "code",
   "execution_count": 278,
   "metadata": {},
   "outputs": [
    {
     "name": "stdout",
     "output_type": "stream",
     "text": [
      "R^2:  0.002055865714385652\n",
      "MAE (Mean Absolute Error): 11.297429481564684\n",
      "MSE (Mean Squared Error): 253.73506186523835\n",
      "RMSE: 15.929063433398662\n"
     ]
    }
   ],
   "source": [
    "from sklearn import metrics\n",
    "\n",
    "print('R^2: ',metrics.r2_score(y_test, y_pred))\n",
    "print('MAE (Mean Absolute Error):', metrics.mean_absolute_error(y_test, y_pred))\n",
    "print('MSE (Mean Squared Error):', metrics.mean_squared_error(y_test, y_pred))\n",
    "print('RMSE:', np.sqrt(metrics.mean_squared_error(y_test, y_pred)))"
   ]
  },
  {
   "cell_type": "code",
   "execution_count": 264,
   "metadata": {},
   "outputs": [],
   "source": [
    "X_test['DataHora_int'] = pd.to_datetime(X_test['DataHora_int'], format='%Y%m%d%H%M')\n",
    "X_train['DataHora_int'] = pd.to_datetime(X_train['DataHora_int'], format='%Y%m%d%H%M')"
   ]
  },
  {
   "cell_type": "code",
   "execution_count": 267,
   "metadata": {},
   "outputs": [
    {
     "data": {
      "text/plain": [
       "(              DataHora_int\n",
       " 724910 2020-12-17 22:00:00\n",
       " 717670 2020-02-19 05:00:00\n",
       " 699683 2021-06-11 16:00:00\n",
       " 698572 2021-04-25 12:00:00\n",
       " 717711 2020-02-20 22:00:00\n",
       " ...                    ...\n",
       " 700720 2021-07-24 21:00:00\n",
       " 719169 2020-04-22 10:00:00\n",
       " 684591 2015-10-21 09:00:00\n",
       " 768668 2019-02-26 16:00:00\n",
       " 773030 2019-08-29 09:00:00\n",
       " \n",
       " [16109 rows x 1 columns],\n",
       "         Valor\n",
       " 724910   19.0\n",
       " 717670    5.0\n",
       " 699683   20.0\n",
       " 698572   26.0\n",
       " 717711   20.0\n",
       " ...       ...\n",
       " 700720   32.0\n",
       " 719169   26.0\n",
       " 684591   45.0\n",
       " 768668   21.0\n",
       " 773030   17.0\n",
       " \n",
       " [16109 rows x 1 columns])"
      ]
     },
     "execution_count": 267,
     "metadata": {},
     "output_type": "execute_result"
    }
   ],
   "source": [
    "X_test, y_test"
   ]
  },
  {
   "cell_type": "code",
   "execution_count": 279,
   "metadata": {},
   "outputs": [
    {
     "data": {
      "text/plain": [
       "<matplotlib.collections.PathCollection at 0x1570c2ad0>"
      ]
     },
     "execution_count": 279,
     "metadata": {},
     "output_type": "execute_result"
    },
    {
     "data": {
      "image/png": "[encoded data removed]",
      "text/plain": [
       "<Figure size 640x480 with 1 Axes>"
      ]
     },
     "metadata": {},
     "output_type": "display_data"
    }
   ],
   "source": [
    "plt.scatter(X_test,y_test)\n",
    "plt.scatter(X_train,y_train)\n"
   ]
  },
  {
   "cell_type": "code",
   "execution_count": null,
   "metadata": {},
   "outputs": [],
   "source": []
  }
 ],
 "metadata": {
  "kernelspec": {
   "display_name": ".venv",
   "language": "python",
   "name": "python3"
  },
  "language_info": {
   "codemirror_mode": {
    "name": "ipython",
    "version": 3
   },
   "file_extension": ".py",
   "mimetype": "text/x-python",
   "name": "python",
   "nbconvert_exporter": "python",
   "pygments_lexer": "ipython3",
   "version": "3.10.7"
  },
  "orig_nbformat": 4,
  "vscode": {
   "interpreter": {
    "hash": "580896eebf8c49a13ed2ad6ca70e88d1b04d77e1301e7ade4f1adac7ac963869"
   }
  }
 },
 "nbformat": 4,
 "nbformat_minor": 2
}
